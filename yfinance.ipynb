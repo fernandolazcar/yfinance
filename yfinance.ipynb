{
 "cells": [
  {
   "cell_type": "markdown",
   "metadata": {},
   "source": [
    "instalacion de las paqueterias "
   ]
  },
  {
   "cell_type": "code",
   "execution_count": null,
   "metadata": {},
   "outputs": [],
   "source": [
    "pip install yfinance"
   ]
  },
  {
   "cell_type": "code",
   "execution_count": 3,
   "metadata": {},
   "outputs": [],
   "source": [
    "import yfinance as yf\n",
    "import pandas as pd"
   ]
  },
  {
   "cell_type": "code",
   "execution_count": 4,
   "metadata": {},
   "outputs": [],
   "source": [
    "aapl = yf.Ticker(\"AAPL\")"
   ]
  },
  {
   "cell_type": "markdown",
   "metadata": {},
   "source": [
    "informacion de la compañia "
   ]
  },
  {
   "cell_type": "code",
   "execution_count": 6,
   "metadata": {},
   "outputs": [
    {
     "name": "stdout",
     "output_type": "stream",
     "text": [
      ": ('address1', 'One Apple Park Way')\n",
      ": ('city', 'Cupertino')\n",
      ": ('state', 'CA')\n",
      ": ('zip', '95014')\n",
      ": ('country', 'United States')\n",
      ": ('phone', '408 996 1010')\n",
      ": ('website', 'https://www.apple.com')\n",
      ": ('industry', 'Consumer Electronics')\n",
      ": ('industryKey', 'consumer-electronics')\n",
      ": ('industryDisp', 'Consumer Electronics')\n",
      ": ('sector', 'Technology')\n",
      ": ('sectorKey', 'technology')\n",
      ": ('sectorDisp', 'Technology')\n",
      ": ('longBusinessSummary', 'Apple Inc. designs, manufactures, and markets smartphones, personal computers, tablets, wearables, and accessories worldwide. The company offers iPhone, a line of smartphones; Mac, a line of personal computers; iPad, a line of multi-purpose tablets; and wearables, home, and accessories comprising AirPods, Apple TV, Apple Watch, Beats products, and HomePod. It also provides AppleCare support and cloud services; and operates various platforms, including the App Store that allow customers to discover and download applications and digital content, such as books, music, video, games, and podcasts. In addition, the company offers various services, such as Apple Arcade, a game subscription service; Apple Fitness+, a personalized fitness service; Apple Music, which offers users a curated listening experience with on-demand radio stations; Apple News+, a subscription news and magazine service; Apple TV+, which offers exclusive original content; Apple Card, a co-branded credit card; and Apple Pay, a cashless payment service, as well as licenses its intellectual property. The company serves consumers, and small and mid-sized businesses; and the education, enterprise, and government markets. It distributes third-party applications for its products through the App Store. The company also sells its products through its retail and online stores, and direct sales force; and third-party cellular network carriers, wholesalers, retailers, and resellers. Apple Inc. was incorporated in 1977 and is headquartered in Cupertino, California.')\n",
      ": ('fullTimeEmployees', 164000)\n",
      ": ('companyOfficers', [{'maxAge': 1, 'name': 'Mr. Timothy D. Cook', 'age': 61, 'title': 'CEO & Director', 'yearBorn': 1961, 'fiscalYear': 2022, 'totalPay': 16425933, 'exercisedValue': 0, 'unexercisedValue': 0}, {'maxAge': 1, 'name': 'Mr. Luca  Maestri', 'age': 59, 'title': 'CFO & Senior VP', 'yearBorn': 1963, 'fiscalYear': 2022, 'totalPay': 5019783, 'exercisedValue': 0, 'unexercisedValue': 0}, {'maxAge': 1, 'name': 'Mr. Jeffrey E. Williams', 'age': 58, 'title': 'Chief Operating Officer', 'yearBorn': 1964, 'fiscalYear': 2022, 'totalPay': 5018337, 'exercisedValue': 0, 'unexercisedValue': 0}, {'maxAge': 1, 'name': 'Ms. Katherine L. Adams', 'age': 58, 'title': 'Senior VP, General Counsel & Secretary', 'yearBorn': 1964, 'fiscalYear': 2022, 'totalPay': 5015208, 'exercisedValue': 0, 'unexercisedValue': 0}, {'maxAge': 1, 'name': \"Ms. Deirdre  O'Brien\", 'age': 55, 'title': 'Senior Vice President of Retail', 'yearBorn': 1967, 'fiscalYear': 2022, 'totalPay': 5019783, 'exercisedValue': 0, 'unexercisedValue': 0}, {'maxAge': 1, 'name': 'Mr. Chris  Kondo', 'title': 'Senior Director of Corporate Accounting', 'fiscalYear': 2022, 'exercisedValue': 0, 'unexercisedValue': 0}, {'maxAge': 1, 'name': 'Mr. James  Wilson', 'title': 'Chief Technology Officer', 'fiscalYear': 2022, 'exercisedValue': 0, 'unexercisedValue': 0}, {'maxAge': 1, 'name': 'Ms. Mary  Demby', 'title': 'Chief Information Officer', 'fiscalYear': 2022, 'exercisedValue': 0, 'unexercisedValue': 0}, {'maxAge': 1, 'name': 'Ms. Nancy  Paxton', 'title': 'Senior Director of Investor Relations & Treasury', 'fiscalYear': 2022, 'exercisedValue': 0, 'unexercisedValue': 0}, {'maxAge': 1, 'name': 'Mr. Greg  Joswiak', 'title': 'Senior Vice President of Worldwide Marketing', 'fiscalYear': 2022, 'exercisedValue': 0, 'unexercisedValue': 0}])\n",
      ": ('auditRisk', 4)\n",
      ": ('boardRisk', 1)\n",
      ": ('compensationRisk', 5)\n",
      ": ('shareHolderRightsRisk', 1)\n",
      ": ('overallRisk', 1)\n",
      ": ('governanceEpochDate', 1696118400)\n",
      ": ('compensationAsOfEpochDate', 1672444800)\n",
      ": ('maxAge', 86400)\n",
      ": ('priceHint', 2)\n",
      ": ('previousClose', 173.0)\n",
      ": ('open', 173.05)\n",
      ": ('dayLow', 171.46)\n",
      ": ('dayHigh', 173.67)\n",
      ": ('regularMarketPreviousClose', 173.0)\n",
      ": ('regularMarketOpen', 173.05)\n",
      ": ('regularMarketDayLow', 171.46)\n",
      ": ('regularMarketDayHigh', 173.67)\n",
      ": ('dividendRate', 0.96)\n",
      ": ('dividendYield', 0.0055)\n",
      ": ('exDividendDate', 1691712000)\n",
      ": ('payoutRatio', 0.156)\n",
      ": ('fiveYearAvgDividendYield', 0.85)\n",
      ": ('beta', 1.308)\n",
      ": ('trailingPE', 29.051928)\n",
      ": ('forwardPE', 28.019386)\n",
      ": ('volume', 42363324)\n",
      ": ('regularMarketVolume', 42363324)\n",
      ": ('averageVolume', 58320035)\n",
      ": ('averageVolume10days', 54378850)\n",
      ": ('averageDailyVolume10Day', 54378850)\n",
      ": ('bid', 173.18)\n",
      ": ('ask', 173.19)\n",
      ": ('bidSize', 1000)\n",
      ": ('askSize', 800)\n",
      ": ('marketCap', 2711595515904)\n",
      ": ('fiftyTwoWeekLow', 124.17)\n",
      ": ('fiftyTwoWeekHigh', 198.23)\n",
      ": ('priceToSalesTrailing12Months', 7.0626793)\n",
      ": ('fiftyDayAverage', 177.3402)\n",
      ": ('twoHundredDayAverage', 169.97134)\n",
      ": ('trailingAnnualDividendRate', 0.93)\n",
      ": ('trailingAnnualDividendYield', 0.0053757224)\n",
      ": ('currency', 'USD')\n",
      ": ('enterpriseValue', 2758399229952)\n",
      ": ('profitMargins', 0.24681)\n",
      ": ('floatShares', 15617034345)\n",
      ": ('sharesOutstanding', 15634199552)\n",
      ": ('sharesShort', 94725628)\n",
      ": ('sharesShortPriorMonth', 102091714)\n",
      ": ('sharesShortPreviousMonthDate', 1693440000)\n",
      ": ('dateShortInterest', 1695945600)\n",
      ": ('sharesPercentSharesOut', 0.0061000003)\n",
      ": ('heldPercentInsiders', 0.00071999995)\n",
      ": ('heldPercentInstitutions', 0.61317)\n",
      ": ('shortRatio', 1.44)\n",
      ": ('shortPercentOfFloat', 0.0061000003)\n",
      ": ('impliedSharesOutstanding', 15634199552)\n",
      ": ('bookValue', 3.852)\n",
      ": ('priceToBook', 45.025963)\n",
      ": ('lastFiscalYearEnd', 1663977600)\n",
      ": ('nextFiscalYearEnd', 1695513600)\n",
      ": ('mostRecentQuarter', 1688169600)\n",
      ": ('earningsQuarterlyGrowth', 0.023)\n",
      ": ('netIncomeToCommon', 94760001536)\n",
      ": ('trailingEps', 5.97)\n",
      ": ('forwardEps', 6.19)\n",
      ": ('pegRatio', 4.33)\n",
      ": ('lastSplitFactor', '4:1')\n",
      ": ('lastSplitDate', 1598832000)\n",
      ": ('enterpriseToRevenue', 7.185)\n",
      ": ('enterpriseToEbitda', 22.253)\n",
      ": ('52WeekChange', 0.16129899)\n",
      ": ('SandP52WeekChange', 0.108881116)\n",
      ": ('lastDividendValue', 0.24)\n",
      ": ('lastDividendDate', 1691712000)\n",
      ": ('exchange', 'NMS')\n",
      ": ('quoteType', 'EQUITY')\n",
      ": ('symbol', 'AAPL')\n",
      ": ('underlyingSymbol', 'AAPL')\n",
      ": ('shortName', 'Apple Inc.')\n",
      ": ('longName', 'Apple Inc.')\n",
      ": ('firstTradeDateEpochUtc', 345479400)\n",
      ": ('timeZoneFullName', 'America/New_York')\n",
      ": ('timeZoneShortName', 'EDT')\n",
      ": ('uuid', '8b10e4ae-9eeb-3684-921a-9ab27e4d87aa')\n",
      ": ('messageBoardId', 'finmb_24937')\n",
      ": ('gmtOffSetMilliseconds', -14400000)\n",
      ": ('currentPrice', 173.44)\n",
      ": ('targetHighPrice', 226.34)\n",
      ": ('targetLowPrice', 140.52)\n",
      ": ('targetMeanPrice', 187.73)\n",
      ": ('targetMedianPrice', 188.62)\n",
      ": ('recommendationMean', 2.1)\n",
      ": ('recommendationKey', 'buy')\n",
      ": ('numberOfAnalystOpinions', 37)\n",
      ": ('totalCash', 62482001920)\n",
      ": ('totalCashPerShare', 3.996)\n",
      ": ('ebitda', 123957002240)\n",
      ": ('totalDebt', 109280002048)\n",
      ": ('quickRatio', 0.814)\n",
      ": ('currentRatio', 0.982)\n",
      ": ('totalRevenue', 383932989440)\n",
      ": ('debtToEquity', 181.305)\n",
      ": ('revenuePerShare', 24.22)\n",
      ": ('returnOnAssets', 0.20896)\n",
      ": ('returnOnEquity', 1.60093)\n",
      ": ('grossProfits', 170782000000)\n",
      ": ('freeCashflow', 90680500224)\n",
      ": ('operatingCashflow', 113071996928)\n",
      ": ('earningsGrowth', 0.05)\n",
      ": ('revenueGrowth', -0.014)\n",
      ": ('grossMargins', 0.43449003)\n",
      ": ('ebitdaMargins', 0.32286)\n",
      ": ('operatingMargins', 0.28116)\n",
      ": ('financialCurrency', 'USD')\n",
      ": ('trailingPegRatio', 2.2372)\n"
     ]
    }
   ],
   "source": [
    "stockinfo = aapl.info\n",
    "\n",
    "for line in stockinfo.items():\n",
    "  print(\":\",line)"
   ]
  },
  {
   "cell_type": "markdown",
   "metadata": {},
   "source": [
    "capitalizacion de mercado "
   ]
  },
  {
   "cell_type": "code",
   "execution_count": 13,
   "metadata": {},
   "outputs": [
    {
     "name": "stdout",
     "output_type": "stream",
     "text": [
      "2711595515904\n"
     ]
    }
   ],
   "source": [
    "marketCap = aapl.info[\"marketCap\"]\n",
    "print(marketCap)\n"
   ]
  },
  {
   "cell_type": "code",
   "execution_count": null,
   "metadata": {},
   "outputs": [],
   "source": [
    "print(aapl.recommendations)"
   ]
  },
  {
   "cell_type": "markdown",
   "metadata": {},
   "source": [
    "Un stock split es una acción corporativa en la que una empresa divide sus acciones existentes en múltiples acciones"
   ]
  },
  {
   "cell_type": "code",
   "execution_count": 14,
   "metadata": {},
   "outputs": [
    {
     "name": "stdout",
     "output_type": "stream",
     "text": [
      "Date\n",
      "1987-06-16 00:00:00-04:00    2.0\n",
      "2000-06-21 00:00:00-04:00    2.0\n",
      "2005-02-28 00:00:00-05:00    2.0\n",
      "2014-06-09 00:00:00-04:00    7.0\n",
      "2020-08-31 00:00:00-04:00    4.0\n",
      "Name: Stock Splits, dtype: float64\n"
     ]
    }
   ],
   "source": [
    "\n",
    "print(aapl.splits)"
   ]
  },
  {
   "cell_type": "markdown",
   "metadata": {},
   "source": [
    "busca la información relativa a la "
   ]
  },
  {
   "cell_type": "code",
   "execution_count": 16,
   "metadata": {},
   "outputs": [
    {
     "name": "stdout",
     "output_type": "stream",
     "text": [
      "                                                        2022-09-30  \\\n",
      "Tax Effect Of Unusual Items                                    0.0   \n",
      "Tax Rate For Calcs                                        0.162045   \n",
      "Normalized EBITDA                                   130541000000.0   \n",
      "Net Income From Continuing Operation Net Minori...   99803000000.0   \n",
      "Reconciled Depreciation                              11104000000.0   \n",
      "Reconciled Cost Of Revenue                          223546000000.0   \n",
      "EBITDA                                              130541000000.0   \n",
      "EBIT                                                119437000000.0   \n",
      "Net Interest Income                                   -106000000.0   \n",
      "Interest Expense                                      2931000000.0   \n",
      "Interest Income                                       2825000000.0   \n",
      "Normalized Income                                    99803000000.0   \n",
      "Net Income From Continuing And Discontinued Ope...   99803000000.0   \n",
      "Total Expenses                                      274891000000.0   \n",
      "Total Operating Income As Reported                  119437000000.0   \n",
      "Diluted Average Shares                               16325819000.0   \n",
      "Basic Average Shares                                 16215963000.0   \n",
      "Diluted EPS                                                   6.11   \n",
      "Basic EPS                                                     6.15   \n",
      "Diluted NI Availto Com Stockholders                  99803000000.0   \n",
      "Net Income Common Stockholders                       99803000000.0   \n",
      "Net Income                                           99803000000.0   \n",
      "Net Income Including Noncontrolling Interests        99803000000.0   \n",
      "Net Income Continuous Operations                     99803000000.0   \n",
      "Tax Provision                                        19300000000.0   \n",
      "Pretax Income                                       119103000000.0   \n",
      "Other Income Expense                                  -334000000.0   \n",
      "Other Non Operating Income Expenses                   -334000000.0   \n",
      "Net Non Operating Interest Income Expense             -106000000.0   \n",
      "Interest Expense Non Operating                        2931000000.0   \n",
      "Interest Income Non Operating                         2825000000.0   \n",
      "Operating Income                                    119437000000.0   \n",
      "Operating Expense                                    51345000000.0   \n",
      "Research And Development                             26251000000.0   \n",
      "Selling General And Administration                   25094000000.0   \n",
      "Gross Profit                                        170782000000.0   \n",
      "Cost Of Revenue                                     223546000000.0   \n",
      "Total Revenue                                       394328000000.0   \n",
      "Operating Revenue                                   394328000000.0   \n",
      "\n",
      "                                                        2021-09-30  \\\n",
      "Tax Effect Of Unusual Items                                    0.0   \n",
      "Tax Rate For Calcs                                        0.133023   \n",
      "Normalized EBITDA                                   120233000000.0   \n",
      "Net Income From Continuing Operation Net Minori...   94680000000.0   \n",
      "Reconciled Depreciation                              11284000000.0   \n",
      "Reconciled Cost Of Revenue                          212981000000.0   \n",
      "EBITDA                                              120233000000.0   \n",
      "EBIT                                                108949000000.0   \n",
      "Net Interest Income                                    198000000.0   \n",
      "Interest Expense                                      2645000000.0   \n",
      "Interest Income                                       2843000000.0   \n",
      "Normalized Income                                    94680000000.0   \n",
      "Net Income From Continuing And Discontinued Ope...   94680000000.0   \n",
      "Total Expenses                                      256868000000.0   \n",
      "Total Operating Income As Reported                  108949000000.0   \n",
      "Diluted Average Shares                               16864919000.0   \n",
      "Basic Average Shares                                 16701272000.0   \n",
      "Diluted EPS                                                   5.61   \n",
      "Basic EPS                                                     5.67   \n",
      "Diluted NI Availto Com Stockholders                  94680000000.0   \n",
      "Net Income Common Stockholders                       94680000000.0   \n",
      "Net Income                                           94680000000.0   \n",
      "Net Income Including Noncontrolling Interests        94680000000.0   \n",
      "Net Income Continuous Operations                     94680000000.0   \n",
      "Tax Provision                                        14527000000.0   \n",
      "Pretax Income                                       109207000000.0   \n",
      "Other Income Expense                                   258000000.0   \n",
      "Other Non Operating Income Expenses                    258000000.0   \n",
      "Net Non Operating Interest Income Expense              198000000.0   \n",
      "Interest Expense Non Operating                        2645000000.0   \n",
      "Interest Income Non Operating                         2843000000.0   \n",
      "Operating Income                                    108949000000.0   \n",
      "Operating Expense                                    43887000000.0   \n",
      "Research And Development                             21914000000.0   \n",
      "Selling General And Administration                   21973000000.0   \n",
      "Gross Profit                                        152836000000.0   \n",
      "Cost Of Revenue                                     212981000000.0   \n",
      "Total Revenue                                       365817000000.0   \n",
      "Operating Revenue                                   365817000000.0   \n",
      "\n",
      "                                                        2020-09-30  \n",
      "Tax Effect Of Unusual Items                                    0.0  \n",
      "Tax Rate For Calcs                                        0.144282  \n",
      "Normalized EBITDA                                    77344000000.0  \n",
      "Net Income From Continuing Operation Net Minori...   57411000000.0  \n",
      "Reconciled Depreciation                              11056000000.0  \n",
      "Reconciled Cost Of Revenue                          169559000000.0  \n",
      "EBITDA                                               77344000000.0  \n",
      "EBIT                                                 66288000000.0  \n",
      "Net Interest Income                                    890000000.0  \n",
      "Interest Expense                                      2873000000.0  \n",
      "Interest Income                                       3763000000.0  \n",
      "Normalized Income                                    57411000000.0  \n",
      "Net Income From Continuing And Discontinued Ope...   57411000000.0  \n",
      "Total Expenses                                      208227000000.0  \n",
      "Total Operating Income As Reported                   66288000000.0  \n",
      "Diluted Average Shares                               17528214000.0  \n",
      "Basic Average Shares                                 17352119000.0  \n",
      "Diluted EPS                                                   3.28  \n",
      "Basic EPS                                                     3.31  \n",
      "Diluted NI Availto Com Stockholders                  57411000000.0  \n",
      "Net Income Common Stockholders                       57411000000.0  \n",
      "Net Income                                           57411000000.0  \n",
      "Net Income Including Noncontrolling Interests        57411000000.0  \n",
      "Net Income Continuous Operations                     57411000000.0  \n",
      "Tax Provision                                         9680000000.0  \n",
      "Pretax Income                                        67091000000.0  \n",
      "Other Income Expense                                   803000000.0  \n",
      "Other Non Operating Income Expenses                    803000000.0  \n",
      "Net Non Operating Interest Income Expense              890000000.0  \n",
      "Interest Expense Non Operating                        2873000000.0  \n",
      "Interest Income Non Operating                         3763000000.0  \n",
      "Operating Income                                     66288000000.0  \n",
      "Operating Expense                                    38668000000.0  \n",
      "Research And Development                             18752000000.0  \n",
      "Selling General And Administration                   19916000000.0  \n",
      "Gross Profit                                        104956000000.0  \n",
      "Cost Of Revenue                                     169559000000.0  \n",
      "Total Revenue                                       274515000000.0  \n",
      "Operating Revenue                                   274515000000.0  \n"
     ]
    }
   ],
   "source": [
    "print(aapl.financials)"
   ]
  },
  {
   "cell_type": "markdown",
   "metadata": {},
   "source": [
    "para poder quienes son mayores posedores de acciones de esta compañia "
   ]
  },
  {
   "cell_type": "code",
   "execution_count": 20,
   "metadata": {},
   "outputs": [
    {
     "name": "stdout",
     "output_type": "stream",
     "text": [
      "        0                                      1\n",
      "0   0.07%        % of Shares Held by All Insider\n",
      "1  61.32%       % of Shares Held by Institutions\n",
      "2  61.36%        % of Float Held by Institutions\n",
      "3    5762  Number of Institutions Holding Shares\n"
     ]
    }
   ],
   "source": [
    "print(aapl.major_holders)"
   ]
  }
 ],
 "metadata": {
  "kernelspec": {
   "display_name": "base",
   "language": "python",
   "name": "python3"
  },
  "language_info": {
   "codemirror_mode": {
    "name": "ipython",
    "version": 3
   },
   "file_extension": ".py",
   "mimetype": "text/x-python",
   "name": "python",
   "nbconvert_exporter": "python",
   "pygments_lexer": "ipython3",
   "version": "3.10.9"
  }
 },
 "nbformat": 4,
 "nbformat_minor": 2
}
